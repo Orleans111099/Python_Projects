{
 "cells": [
  {
   "cell_type": "markdown",
   "id": "352dd2e3",
   "metadata": {},
   "source": [
    "### Q1\n",
    "\n",
    "Define a python function that calculate the perimeter of the rectangle\n",
    "\n",
    "Formular\n",
    "\n",
    "formular => 2 X length + 2 X Width"
   ]
  },
  {
   "cell_type": "code",
   "execution_count": null,
   "id": "41041c2c",
   "metadata": {},
   "outputs": [],
   "source": [
    "# accepting input for length and width of the rectangle from user\n",
    "width = float(input('Please enter the width of the rectangle:\\n'))\n",
    "length = float(input('Please enter the length of the rectangle:\\n'))\n",
    "\n",
    "# calculate the perimeter of a rectangle\n",
    "def perimeter(length, width):\n",
    "    return (2 * length) + (2 * width)\n",
    "\n",
    "print(f'Perimeter of the rectangle:\\n{perimeter(length, width)}')"
   ]
  },
  {
   "cell_type": "markdown",
   "id": "a56ccec8",
   "metadata": {},
   "source": [
    "### Q2\n",
    "Define the function to calculate the area of a circle. Round the answer to 3 decimal places.\n",
    "\n",
    "**Preamble**\n",
    " - Take pi as 22/7\n",
    " - formular pi x r ** 2"
   ]
  },
  {
   "cell_type": "code",
   "execution_count": null,
   "id": "e7dc44d8",
   "metadata": {},
   "outputs": [],
   "source": [
    "# accepting input from user for radius\n",
    "radius = float(input('Please enter the radius of the circle:\\n'))\n",
    "pi = 3.143\n",
    "\n",
    "# calculate the area of a cirle\n",
    "def area(pi, radius):\n",
    "    return round(pi * (radius ** 2), 3)\n",
    "\n",
    "print(f'Area of the circle:\\n{round(area(pi, radius), 3)}')"
   ]
  },
  {
   "cell_type": "markdown",
   "id": "be5a6965",
   "metadata": {},
   "source": [
    "### Q3\n",
    "Define a function that takes a list of numbers and print out the **mean**, **median** and **mode**.\n",
    "\n",
    "- Test your function with the list b\n",
    "\n",
    "`b = [2,3,4,6,7,3,4,3,2,1,3]`"
   ]
  },
  {
   "cell_type": "code",
   "execution_count": null,
   "id": "027f79f5",
   "metadata": {},
   "outputs": [],
   "source": [
    "b = [2,3,4,6,7,3,4,3,2,1,3]\n",
    "b"
   ]
  },
  {
   "cell_type": "code",
   "execution_count": null,
   "id": "848115d1",
   "metadata": {},
   "outputs": [],
   "source": [
    "# calculate the mean of b\n",
    "def mean(b):\n",
    "    return sum(b) / len(b)\n",
    "\n",
    "print(f'Mean: {mean(b)}')"
   ]
  },
  {
   "cell_type": "code",
   "execution_count": null,
   "id": "2360036b",
   "metadata": {},
   "outputs": [],
   "source": [
    "# calculate the median of b\n",
    "def median(b):\n",
    "    return sorted(b)[len(b) // 2]\n",
    "\n",
    "print(f'Median: {median(b)}')"
   ]
  },
  {
   "cell_type": "code",
   "execution_count": null,
   "id": "f51ba717",
   "metadata": {},
   "outputs": [],
   "source": [
    "# calculate the mode of b\n",
    "def mode(b):\n",
    "    return max(b, key = b.count)\n",
    "\n",
    "print(f'Mode: {mode(b)}')"
   ]
  },
  {
   "cell_type": "markdown",
   "id": "3313ab10",
   "metadata": {},
   "source": [
    "### Q4\n",
    "Define a function that prints out the list of the first 20 prime numbers"
   ]
  },
  {
   "cell_type": "code",
   "execution_count": 14,
   "id": "511f2fec",
   "metadata": {},
   "outputs": [
    {
     "name": "stdout",
     "output_type": "stream",
     "text": [
      "[2, 3, 5, 7, 11, 13, 17, 19, 23, 29, 31, 37, 41, 43, 47, 53, 59, 61, 67, 71]\n"
     ]
    }
   ],
   "source": [
    "def first_20_primes():\n",
    "    primes = []  # list to store prime numbers\n",
    "    num = 2  # start checking for primes from 2\n",
    "    while len(primes) < 20:\n",
    "        is_prime = True\n",
    "        for i in range(2, int(num ** 0.5) + 1):\n",
    "            if num % i == 0:\n",
    "                is_prime = False\n",
    "                break\n",
    "        if is_prime:\n",
    "            primes.append(num)\n",
    "        num += 1\n",
    "    print(primes)\n",
    "    \n",
    "first_20_primes()"
   ]
  },
  {
   "cell_type": "markdown",
   "id": "ef1c5863",
   "metadata": {},
   "source": [
    "#### Q5\n",
    "Define a function that takes a list of strings and print out the string and the length of the string.\n",
    "\n",
    "**Example of expected output**\n",
    "\n",
    "{\"Kofi\":4,\n",
    "\"Ama\":3,\n",
    "\"Sedem\":5}"
   ]
  },
  {
   "cell_type": "code",
   "execution_count": 16,
   "id": "88d01c87",
   "metadata": {},
   "outputs": [
    {
     "data": {
      "text/plain": [
       "{'Kofi': 4, 'Ama': 3, 'Sedem': 5}"
      ]
     },
     "execution_count": 16,
     "metadata": {},
     "output_type": "execute_result"
    }
   ],
   "source": [
    "sd= [\"Kofi\", \"Ama\", \"Sedem\"]\n",
    "def dic_string_len(strs):\n",
    "    exp = {}\n",
    "    for i in strs:\n",
    "        exp.update({i: len(i)})\n",
    "    return exp\n",
    "\n",
    "    \n",
    "dic_string_len(sd)"
   ]
  },
  {
   "cell_type": "markdown",
   "id": "5072c8d8",
   "metadata": {},
   "source": [
    "### Q6\n",
    "Define a function that takes a list of strings and numbers and print out only the strings and the position of the strings.\n",
    "\n",
    "**Preamble**\n",
    "\n",
    "names = ['sedem', 'Kofi', 'kobla']\n",
    "\n",
    "**Expected Output**\n",
    "\n",
    "{'sedem': P0, 'Kofi': P1, 'kobla': P2}"
   ]
  },
  {
   "cell_type": "code",
   "execution_count": 15,
   "id": "cf9acfc1",
   "metadata": {},
   "outputs": [
    {
     "data": {
      "text/plain": [
       "{'sedem': 0, 'Kofi': 1, 'kobla': 2}"
      ]
     },
     "execution_count": 15,
     "metadata": {},
     "output_type": "execute_result"
    }
   ],
   "source": [
    "lst = ['sedem', 'Kofi', 'kobla']\n",
    "def name_pos(pos):\n",
    "    words = {}\n",
    "    for i,j in enumerate(pos):\n",
    "        words.update({j : i})\n",
    "    return words\n",
    "\n",
    "name_pos(lst)"
   ]
  },
  {
   "cell_type": "markdown",
   "id": "5593b665",
   "metadata": {},
   "source": [
    "### Q7\n",
    "Define a function that returns whether the sum of a person age and person's date of birth equals 2023\n",
    "\n",
    "**Preamble**\n",
    "\n",
    "2001 + 22 => True\n",
    "\n",
    "2002 + 5 => False"
   ]
  },
  {
   "cell_type": "code",
   "execution_count": null,
   "id": "7ceff754",
   "metadata": {},
   "outputs": [],
   "source": [
    "age = int(input(\"Please enter your age:\\n\"))\n",
    "year = int(input(\"Please enter your birthyear:\\n\"))\n",
    "\n",
    "def decade(year):\n",
    "    if (age + year) == 2023:\n",
    "        print(\"True\")\n",
    "    else:\n",
    "        print(\"False\")\n",
    "    return age + year\n",
    "        \n",
    "    \n",
    "print(f'Sum of age and year is: {age + year} => {(age + year) == 2023}')"
   ]
  },
  {
   "cell_type": "markdown",
   "id": "f831e652",
   "metadata": {},
   "source": [
    "### Q8\n",
    "Define a function that determine whether a particular year is a **decade**, the output should be a boolean (True or False)\n"
   ]
  },
  {
   "cell_type": "code",
   "execution_count": 24,
   "id": "db6a928a",
   "metadata": {},
   "outputs": [
    {
     "name": "stdout",
     "output_type": "stream",
     "text": [
      "Please enter any year:\n",
      "2000\n",
      "Decade\n"
     ]
    },
    {
     "data": {
      "text/plain": [
       "True"
      ]
     },
     "execution_count": 24,
     "metadata": {},
     "output_type": "execute_result"
    }
   ],
   "source": [
    "def decade():\n",
    "    year = int(input(\"Please enter any year:\\n\"))\n",
    "    if year % 10 == 0:\n",
    "        print(\"Decade\")\n",
    "    else:\n",
    "        print(\"Normal Year\")\n",
    "#     return decade\n",
    "    return True if year % 10 == 0 else False\n",
    "\n",
    "# print(f\"This year is: {(year % 10 == 0)}\")\n",
    "decade()"
   ]
  },
  {
   "cell_type": "markdown",
   "id": "211c19e3",
   "metadata": {},
   "source": [
    "### Q9\n",
    "Define a function that contains a list of strings and punctuations,the output should on return the list of punctuations.\n"
   ]
  },
  {
   "cell_type": "code",
   "execution_count": 74,
   "id": "44082312",
   "metadata": {},
   "outputs": [
    {
     "data": {
      "text/plain": [
       "' , ,   .'"
      ]
     },
     "execution_count": 74,
     "metadata": {},
     "output_type": "execute_result"
    }
   ],
   "source": [
    "string = \"UsEFul Stuff, striNg, nO tROUbLE THeRe.\"\n",
    "def remove_punct(string):\n",
    "    results = \"\"\n",
    "    for char in string:\n",
    "        if not char.isalpha():\n",
    "            results = results + char\n",
    "    return results\n",
    "\n",
    "remove_punct(string)"
   ]
  },
  {
   "cell_type": "markdown",
   "id": "34bae9ec",
   "metadata": {},
   "source": [
    "### Q10\n",
    "\n",
    "Define a lambda function that print out the cubic root of a list of numbers"
   ]
  },
  {
   "cell_type": "code",
   "execution_count": 11,
   "id": "a7483b5c",
   "metadata": {},
   "outputs": [
    {
     "name": "stdout",
     "output_type": "stream",
     "text": [
      "Cube of number:  4.3267487109222245\n"
     ]
    }
   ],
   "source": [
    "lambda_cube = lambda y: y**(1./3.)\n",
    "\n",
    "\n",
    "# y = y*(1./3.)\n",
    "\n",
    "print(\"Cube of number: \", lambda_cube(81)) "
   ]
  },
  {
   "cell_type": "markdown",
   "id": "37974632",
   "metadata": {},
   "source": [
    "### Q11\n",
    "Define a lambda function that print out the cube of a list of numbers"
   ]
  },
  {
   "cell_type": "code",
   "execution_count": 12,
   "id": "91c23419",
   "metadata": {},
   "outputs": [
    {
     "name": "stdout",
     "output_type": "stream",
     "text": [
      "[1, 8, 27, 64, 125]\n"
     ]
    }
   ],
   "source": [
    "cube = lambda numbers: [num ** 3 for num in numbers]\n",
    "\n",
    "numbers = [1, 2, 3, 4, 5]\n",
    "print(cube(numbers))"
   ]
  },
  {
   "cell_type": "markdown",
   "id": "b1522dbb",
   "metadata": {},
   "source": [
    "### Q12\n",
    "Define a function that take a list of list of numbers and return a list that contains the average of each sublist using map."
   ]
  },
  {
   "cell_type": "code",
   "execution_count": 81,
   "id": "4b41c799",
   "metadata": {},
   "outputs": [
    {
     "data": {
      "text/plain": [
       "[2.0, 5.5, 8.5]"
      ]
     },
     "execution_count": 81,
     "metadata": {},
     "output_type": "execute_result"
    }
   ],
   "source": [
    "list_of_lists = [[1, 2, 3], [4, 5, 6, 7], [8, 9]]\n",
    "\n",
    "def average_of_sublists(list_of_lists):\n",
    "    return list(map(lambda sublist: sum(sublist) / len(sublist), list_of_lists))\n",
    "\n",
    "average_of_sublists(list_of_lists)"
   ]
  },
  {
   "cell_type": "markdown",
   "id": "0fd5cd06",
   "metadata": {},
   "source": [
    "### Q13\n",
    "Define a function that takes a list of strings and filter out strings that are upper case."
   ]
  },
  {
   "cell_type": "code",
   "execution_count": 44,
   "id": "05dadbd5",
   "metadata": {},
   "outputs": [
    {
     "data": {
      "text/plain": [
       "'UEFSNOROULETHR'"
      ]
     },
     "execution_count": 44,
     "metadata": {},
     "output_type": "execute_result"
    }
   ],
   "source": [
    "string = \"UsEFul Stuff, striNg, nO tROUbLE THeRe.\"\n",
    "def remove_uppercase(string):\n",
    "    results = \"\"\n",
    "    for char in string:\n",
    "        if char.isupper():\n",
    "            results = results + char\n",
    "    return results\n",
    "\n",
    "remove_uppercase(string)"
   ]
  },
  {
   "cell_type": "markdown",
   "id": "d0dddd17",
   "metadata": {},
   "source": [
    "### Q14\n",
    "Define a function that takes a list of numbers and print out the numbers which are prime in the list."
   ]
  },
  {
   "cell_type": "code",
   "execution_count": 9,
   "id": "71c7f2f5",
   "metadata": {},
   "outputs": [
    {
     "name": "stdout",
     "output_type": "stream",
     "text": [
      "2\n",
      "3\n",
      "5\n",
      "7\n"
     ]
    }
   ],
   "source": [
    "def print_prime_numbers(numbers):\n",
    "    for number in numbers:\n",
    "        if number > 1: \n",
    "            for i in range(2, number):\n",
    "                if (number % i) == 0:\n",
    "                    break \n",
    "            else:\n",
    "                print(number)\n",
    "                \n",
    "numbers = [2, 3, 4, 5, 6, 7, 8, 9, 10]\n",
    "print_prime_numbers(numbers)"
   ]
  },
  {
   "cell_type": "markdown",
   "id": "240741dc",
   "metadata": {},
   "source": [
    "### Q15\n",
    "Define a function that take a list of strings and return a zip of each string and length of a string."
   ]
  },
  {
   "cell_type": "code",
   "execution_count": 85,
   "id": "6eae2823",
   "metadata": {},
   "outputs": [
    {
     "name": "stdout",
     "output_type": "stream",
     "text": [
      "('I', 1)\n",
      "('Love', 4)\n",
      "('Python', 6)\n",
      "('Programming', 11)\n"
     ]
    }
   ],
   "source": [
    "def zip_strings_and_lengths(str):\n",
    "    return zip(str, map(len, str))\n",
    "str = [\"I\", \"Love\", \"Python\", \"Programming\"]\n",
    "zipped = zip_strings_and_lengths(str)\n",
    "\n",
    "for pair in zipped:\n",
    "    print(pair)"
   ]
  },
  {
   "cell_type": "markdown",
   "id": "44a1339f",
   "metadata": {},
   "source": [
    "### Q16\n",
    "Define a function that takes in a number and return the first 12 multiples of the the number.\n",
    "\n",
    "Expected Output\n",
    "\n",
    "2 X 1 = 2\n",
    "\n",
    "to\n",
    "\n",
    "2 X 12 = 24"
   ]
  },
  {
   "cell_type": "code",
   "execution_count": 53,
   "id": "70c2fb5a",
   "metadata": {},
   "outputs": [
    {
     "name": "stdout",
     "output_type": "stream",
     "text": [
      "Input a number : 9\n",
      "9 X 1 = 9\n",
      "9 X 2 = 18\n",
      "9 X 3 = 27\n",
      "9 X 4 = 36\n",
      "9 X 5 = 45\n",
      "9 X 6 = 54\n",
      "9 X 7 = 63\n",
      "9 X 8 = 72\n",
      "9 X 9 = 81\n",
      "9 X 10 = 90\n",
      "9 X 11 = 99\n",
      "9 X 12 = 108\n"
     ]
    }
   ],
   "source": [
    "user_input = int(input(\"Input a number : \"))\n",
    "def multiples(number):\n",
    "    count = 0\n",
    "    while True:\n",
    "        count+= 1\n",
    "        a = number * count\n",
    "        print(f\"{number} X {count} = {a}\")\n",
    "        if count == 12:\n",
    "            break\n",
    "    \n",
    "multiples(user_input)"
   ]
  },
  {
   "cell_type": "markdown",
   "id": "cd63dd99",
   "metadata": {},
   "source": [
    "### Q17\n",
    "Write a Python function to find the maximum of three numbers.\n",
    "\n",
    "**Do not use the max function**"
   ]
  },
  {
   "cell_type": "code",
   "execution_count": 84,
   "id": "48f3edb7",
   "metadata": {
    "scrolled": true
   },
   "outputs": [
    {
     "name": "stdout",
     "output_type": "stream",
     "text": [
      "Enter first number:\n",
      "3\n",
      "Enter second number:\n",
      "6\n",
      "Enter third number:\n",
      "8\n"
     ]
    },
    {
     "data": {
      "text/plain": [
       "8"
      ]
     },
     "execution_count": 84,
     "metadata": {},
     "output_type": "execute_result"
    }
   ],
   "source": [
    "a = int(input(\"Enter first number:\\n\"))\n",
    "b = int(input(\"Enter second number:\\n\"))\n",
    "c = int(input(\"Enter third number:\\n\"))\n",
    "\n",
    "def max_number(a, b, c):\n",
    "    return max(a,b,c)\n",
    "\n",
    "max_number(a,b,c)"
   ]
  },
  {
   "cell_type": "markdown",
   "id": "67520c0b",
   "metadata": {},
   "source": [
    "### Q18\n",
    "Write a Python function to multiply all the numbers in a list."
   ]
  },
  {
   "cell_type": "code",
   "execution_count": 59,
   "id": "6ab28546",
   "metadata": {},
   "outputs": [
    {
     "name": "stdout",
     "output_type": "stream",
     "text": [
      "Multiplication is: 3300\n"
     ]
    }
   ],
   "source": [
    "# Write a Python function to multiply all the numbers in a lis\n",
    "\n",
    "def multiply_list(l):\n",
    "    f = 1\n",
    "    for i in l:\n",
    "        f *= i\n",
    "    print(\"Multiplication is:\", f)\n",
    "    \n",
    "multiply_list([2,2,11,75])"
   ]
  },
  {
   "cell_type": "markdown",
   "id": "05891582",
   "metadata": {},
   "source": [
    "### Q19\n",
    "Write a Python program to reverse a string"
   ]
  },
  {
   "cell_type": "code",
   "execution_count": null,
   "id": "79b5afa1",
   "metadata": {},
   "outputs": [],
   "source": [
    "word = input('Please enter a word: ')\n",
    "\n",
    "def reverse_word(word):\n",
    "    result = \"\"\n",
    "    for i in word:\n",
    "        result = i + result\n",
    "    return result\n",
    "\n",
    "print(f\"The reserve of the word: {reverse_word(word)}\")    "
   ]
  },
  {
   "cell_type": "markdown",
   "id": "b9025ac8",
   "metadata": {},
   "source": [
    "### Q20\n",
    "Write a python function to return the length of a string."
   ]
  },
  {
   "cell_type": "code",
   "execution_count": null,
   "id": "a9eef3dd",
   "metadata": {},
   "outputs": [],
   "source": [
    "sentence = input('Please enter a word: ')\n",
    "\n",
    "def length(sentence):\n",
    "    count = 0\n",
    "    for char in sentence:\n",
    "        count += 1\n",
    "    return count\n",
    "\n",
    "print(f'{length(sentence)} is the length of the sentence.')"
   ]
  },
  {
   "cell_type": "markdown",
   "id": "8d1ee176",
   "metadata": {},
   "source": [
    "Have a lovely coding weekend"
   ]
  }
 ],
 "metadata": {
  "kernelspec": {
   "display_name": "Python 3 (ipykernel)",
   "language": "python",
   "name": "python3"
  },
  "language_info": {
   "codemirror_mode": {
    "name": "ipython",
    "version": 3
   },
   "file_extension": ".py",
   "mimetype": "text/x-python",
   "name": "python",
   "nbconvert_exporter": "python",
   "pygments_lexer": "ipython3",
   "version": "3.9.13"
  }
 },
 "nbformat": 4,
 "nbformat_minor": 5
}
