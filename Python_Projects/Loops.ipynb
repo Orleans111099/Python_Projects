{
 "cells": [
  {
   "cell_type": "markdown",
   "id": "c981861e",
   "metadata": {},
   "source": [
    "# Q1\n",
    "Write a code to display a list of the first 12 multiples of 8 using a for loop\n"
   ]
  },
  {
   "cell_type": "code",
   "execution_count": 45,
   "id": "c66eaddc",
   "metadata": {},
   "outputs": [
    {
     "name": "stdout",
     "output_type": "stream",
     "text": [
      "[8, 16, 24, 32, 40, 48, 56, 64, 72, 80, 88, 96]\n"
     ]
    }
   ],
   "source": [
    "list = []\n",
    "for num in range(1,13):\n",
    "    list.append(num*8)\n",
    "print(list)"
   ]
  },
  {
   "cell_type": "markdown",
   "id": "d9f7d0f9",
   "metadata": {},
   "source": [
    "# Q2\n",
    "Write the code to print sum of all even numbers from 1 to 201"
   ]
  },
  {
   "cell_type": "code",
   "execution_count": 51,
   "id": "f63f5887",
   "metadata": {
    "scrolled": true
   },
   "outputs": [
    {
     "name": "stdout",
     "output_type": "stream",
     "text": [
      "10100\n"
     ]
    }
   ],
   "source": [
    "evens = []\n",
    "for nums in range(2,202,2):\n",
    "    if nums%2 == 0:\n",
    "        evens.append(nums)\n",
    "        \n",
    "print(sum(evens))"
   ]
  },
  {
   "cell_type": "markdown",
   "id": "4f0f12d7",
   "metadata": {},
   "source": [
    "# Q3\n",
    "`my_list = [3, 5, 7, 12, 41]`\n",
    "\n",
    "Write the code to display the list of the squares of each number in my list\n",
    "\n",
    "- Without using list comprehension\n",
    "- Using list comprehension\n"
   ]
  },
  {
   "cell_type": "code",
   "execution_count": 11,
   "id": "5bead7c1",
   "metadata": {},
   "outputs": [
    {
     "data": {
      "text/plain": [
       "[3, 5, 7, 12, 41]"
      ]
     },
     "execution_count": 11,
     "metadata": {},
     "output_type": "execute_result"
    }
   ],
   "source": [
    "my_list = [3, 5, 7, 12, 41]\n",
    "my_list"
   ]
  },
  {
   "cell_type": "code",
   "execution_count": 12,
   "id": "7faae321",
   "metadata": {},
   "outputs": [
    {
     "name": "stdout",
     "output_type": "stream",
     "text": [
      "[9, 25, 49, 144, 1681]\n"
     ]
    }
   ],
   "source": [
    "#Without using list comprehension\n",
    "squares = []\n",
    "for nums in my_list:\n",
    "    nums = nums ** 2\n",
    "    squares.append(nums)\n",
    "print(squares)"
   ]
  },
  {
   "cell_type": "code",
   "execution_count": 13,
   "id": "385049a4",
   "metadata": {},
   "outputs": [
    {
     "name": "stdout",
     "output_type": "stream",
     "text": [
      "[9, 25, 49, 144, 1681]\n"
     ]
    }
   ],
   "source": [
    "#Using list comprehension\n",
    "squares = [nums**2 for nums in my_list]\n",
    "print(squares)"
   ]
  },
  {
   "cell_type": "markdown",
   "id": "28bed149",
   "metadata": {},
   "source": [
    "# Q4\n",
    "`my_list1 = [3, 53,47, 22, 53, 78, 12, 41]`\n",
    "\n",
    "Calculate the average of my_list1\n",
    "\n",
    "- Without using sum and len fucnctions\n",
    "- Using sum and len functions\n"
   ]
  },
  {
   "cell_type": "code",
   "execution_count": 1,
   "id": "c341dac2",
   "metadata": {},
   "outputs": [
    {
     "data": {
      "text/plain": [
       "[3, 53, 47, 22, 53, 78, 12, 41]"
      ]
     },
     "execution_count": 1,
     "metadata": {},
     "output_type": "execute_result"
    }
   ],
   "source": [
    "my_list1 = [3, 53,47, 22, 53, 78, 12, 41]\n",
    "my_list1"
   ]
  },
  {
   "cell_type": "code",
   "execution_count": 2,
   "id": "1395b924",
   "metadata": {},
   "outputs": [
    {
     "name": "stdout",
     "output_type": "stream",
     "text": [
      "38.625\n"
     ]
    }
   ],
   "source": [
    "#Without using sum and len fucnctions\n",
    "total = 0\n",
    "length = 0\n",
    "\n",
    "for i in my_list1:\n",
    "    total +=i\n",
    "    length += 1\n",
    "    \n",
    "average = total/length\n",
    "print(average)"
   ]
  },
  {
   "cell_type": "code",
   "execution_count": 3,
   "id": "8879d046",
   "metadata": {},
   "outputs": [
    {
     "name": "stdout",
     "output_type": "stream",
     "text": [
      "38.625\n"
     ]
    }
   ],
   "source": [
    "#Using sum and len functions\n",
    "average = sum(my_list1) / len(my_list1)\n",
    "print(average)"
   ]
  },
  {
   "cell_type": "markdown",
   "id": "38c1ddff",
   "metadata": {},
   "source": [
    "# Q4\n",
    "\n",
    "Write a Python program to guess a number between 1 and 9.\n",
    "User is prompted to enter a guess. If the user guesses wrong then the prompt appears again until the guess is correct, on successful guess, user will get a \"Well guessed!\" message, and the program will exit."
   ]
  },
  {
   "cell_type": "code",
   "execution_count": 8,
   "id": "6546e12a",
   "metadata": {},
   "outputs": [
    {
     "name": "stdout",
     "output_type": "stream",
     "text": [
      "Guess a number between 1 and 9: 5\n",
      "Try again!\n",
      "Guess a number between 1 and 9: 6\n",
      "Try again!\n",
      "Guess a number between 1 and 9: 7\n",
      "Try again!\n",
      "Guess a number between 1 and 9: 4\n",
      "Try again!\n",
      "Guess a number between 1 and 9: 3\n",
      "Well guessed!\n"
     ]
    }
   ],
   "source": [
    "import random\n",
    "\n",
    "# Generate a random number between 1 and 9\n",
    "number = random.randint(1, 9)\n",
    "\n",
    "# Prompt the user to guess the number\n",
    "while True:\n",
    "    guess = int(input(\"Guess a number between 1 and 9: \"))\n",
    "    if guess == number:\n",
    "        print(\"Well guessed!\")\n",
    "        break\n",
    "    else:\n",
    "        print(\"Try again!\")"
   ]
  },
  {
   "cell_type": "markdown",
   "id": "f5c02baa",
   "metadata": {},
   "source": [
    "#### Q5\n",
    "Write a Python program to construct the following pattern.\n",
    "\n",
    "`*` \n",
    "\n",
    "`* *` \n",
    "\n",
    "`* * *` \n",
    "\n",
    "`* * * *` \n",
    "\n",
    "`* * * * *`"
   ]
  },
  {
   "cell_type": "code",
   "execution_count": 30,
   "id": "cfad8e96",
   "metadata": {},
   "outputs": [
    {
     "name": "stdout",
     "output_type": "stream",
     "text": [
      "*\n",
      "**\n",
      "***\n",
      "****\n",
      "*****\n"
     ]
    }
   ],
   "source": [
    "#set number of rows to 5\n",
    "n = 5\n",
    "\n",
    "for i in range(1, n+1):\n",
    "    for k in range(1, i+1):\n",
    "        print(\"*\", end= \"\")\n",
    "    print()"
   ]
  },
  {
   "cell_type": "markdown",
   "id": "e85d94df",
   "metadata": {},
   "source": [
    "# Q6\n",
    "\n",
    "Write a Python program that accepts a word from the user and reverses it."
   ]
  },
  {
   "cell_type": "code",
   "execution_count": 4,
   "id": "7af76729",
   "metadata": {},
   "outputs": [
    {
     "name": "stdout",
     "output_type": "stream",
     "text": [
      "Input a word to reverse: read\n",
      "daer\n",
      "\n"
     ]
    }
   ],
   "source": [
    "word = input(\"Input a word to reverse: \")\n",
    "\n",
    "for char in range(len(word) - 1, -1, -1):\n",
    "    print(word[char], end=\"\")\n",
    "print(\"\\n\")"
   ]
  },
  {
   "cell_type": "markdown",
   "id": "5fe06511",
   "metadata": {},
   "source": [
    "# Q7\n",
    "Write a Python program that accepts a word from the user and reverses it."
   ]
  },
  {
   "cell_type": "markdown",
   "id": "5a99d4b3",
   "metadata": {},
   "source": [
    "# Q8\n",
    "\n",
    "`lst = [3,4,5,4,7,8,5,8,3,6,8,9,11]`\n",
    "\n",
    "Write a Python program to count the number of even and odd numbers in the above list of numbers.\n",
    "\n",
    "**Expected output should be in this format**\n",
    "\n",
    "{\"Even\" : num_of_even, \"Odd\": num_of_odd}"
   ]
  },
  {
   "cell_type": "code",
   "execution_count": 32,
   "id": "d391ce4f",
   "metadata": {},
   "outputs": [
    {
     "data": {
      "text/plain": [
       "[3, 4, 5, 4, 7, 8, 5, 8, 3, 6, 8, 9, 11]"
      ]
     },
     "execution_count": 32,
     "metadata": {},
     "output_type": "execute_result"
    }
   ],
   "source": [
    "lst = [3,4,5,4,7,8,5,8,3,6,8,9,11]\n",
    "lst"
   ]
  },
  {
   "cell_type": "code",
   "execution_count": 40,
   "id": "ec8a1285",
   "metadata": {},
   "outputs": [
    {
     "name": "stdout",
     "output_type": "stream",
     "text": [
      "{'Even': 6, 'Odd': 7}\n"
     ]
    }
   ],
   "source": [
    "numbers = [3,4,5,4,7,8,5,8,3,6,8,9,11]\n",
    "count_odd = 0\n",
    "count_even = 0\n",
    "for x in numbers:\n",
    "        if not x % 2:\n",
    "            count_even+=1\n",
    "        else:\n",
    "             count_odd+=1\n",
    "                \n",
    "a = [\"Even\", \"Odd\"]\n",
    "b = [count_even,count_odd]\n",
    "z= zip(a,b)\n",
    "num_dict= dict(z)\n",
    "print(num_dict)"
   ]
  },
  {
   "cell_type": "markdown",
   "id": "c92b54f9",
   "metadata": {},
   "source": [
    "# Q9\n",
    " Write a Python program that iterates the integers from 1 to 50. For multiples of three print \"Fizz\" instead of the number and for multiples of five print \"Buzz\". For numbers that are multiples of three and five, print \"FizzBuzz\".\n",
    "Sample Output :\n",
    "1\n",
    "\n",
    "2\n",
    "\n",
    "fizz\n",
    "\n",
    "4\n",
    "\n",
    "buzz"
   ]
  },
  {
   "cell_type": "code",
   "execution_count": 28,
   "id": "878b0d12",
   "metadata": {},
   "outputs": [
    {
     "name": "stdout",
     "output_type": "stream",
     "text": [
      "1\n",
      "2\n",
      "Fizz\n",
      "4\n",
      "Buzz\n",
      "Fizz\n",
      "7\n",
      "8\n",
      "Fizz\n",
      "Buzz\n",
      "11\n",
      "Fizz\n",
      "13\n",
      "14\n",
      "FizzBuzz\n",
      "Fizz\n",
      "16\n",
      "17\n",
      "Fizz\n",
      "19\n",
      "Buzz\n",
      "Fizz\n",
      "22\n",
      "23\n",
      "Fizz\n",
      "Buzz\n",
      "26\n",
      "Fizz\n",
      "28\n",
      "29\n",
      "FizzBuzz\n",
      "Fizz\n",
      "31\n",
      "32\n",
      "Fizz\n",
      "34\n",
      "Buzz\n",
      "Fizz\n",
      "37\n",
      "38\n",
      "Fizz\n",
      "Buzz\n",
      "41\n",
      "Fizz\n",
      "43\n",
      "44\n",
      "FizzBuzz\n",
      "Fizz\n",
      "46\n",
      "47\n",
      "Fizz\n",
      "49\n",
      "Buzz\n"
     ]
    }
   ],
   "source": [
    "for num in range(1,51):\n",
    "    if  num % 3 == 0 and num % 5 == 0:\n",
    "        print('FizzBuzz')\n",
    "    if num % 3 == 0:\n",
    "        print('Fizz')\n",
    "        continue\n",
    "    elif num % 5 == 0:\n",
    "        print('Buzz')\n",
    "        continue\n",
    "    else:\n",
    "        print(num)"
   ]
  },
  {
   "cell_type": "markdown",
   "id": "8d3505cf",
   "metadata": {},
   "source": [
    "# Q10\n",
    " Write a Python program to find the median of three values inputs from the user"
   ]
  },
  {
   "cell_type": "code",
   "execution_count": 64,
   "id": "20bfc74e",
   "metadata": {},
   "outputs": [
    {
     "name": "stdout",
     "output_type": "stream",
     "text": [
      "Enter first number:\n",
      "2\n",
      "Enter second number:\n",
      "5\n",
      "Enter third number:\n",
      "7\n",
      "5 is median\n"
     ]
    }
   ],
   "source": [
    "a = int(input(\"Enter first number:\\n\"))\n",
    "b = int(input(\"Enter second number:\\n\"))\n",
    "c = int(input(\"Enter third number:\\n\"))\n",
    "\n",
    "if(b>a and a>c or c>a and a>b):\n",
    "    print(a, \" is median\")\n",
    "if(a>b and b>c or c>b and b>a):\n",
    "    print(b, \"is median\")\n",
    "if(a>c and c>b or b>c and c>a):\n",
    "    print(c, \"is median\")"
   ]
  },
  {
   "cell_type": "markdown",
   "id": "9ef4f8a2",
   "metadata": {},
   "source": [
    "# Q11\n",
    "Write a Python program to calculate the sum and average of n integer numbers (input from the user). Input 0 to finish."
   ]
  },
  {
   "cell_type": "code",
   "execution_count": 66,
   "id": "3bfba461",
   "metadata": {},
   "outputs": [
    {
     "name": "stdout",
     "output_type": "stream",
     "text": [
      "Please enter a number:\n",
      "4\n",
      "Please enter a number:\n",
      "6\n",
      "Please enter a number:\n",
      "8\n",
      "Please enter a number:\n",
      "0\n",
      "[4, 6, 8]\n",
      "Sum of the numbers above: 18\n",
      "Average of the numbers above: 6.0\n"
     ]
    }
   ],
   "source": [
    "counts = []\n",
    "user = 3\n",
    "\n",
    "while user != 0:\n",
    "    user = int(input('Please enter a number:\\n'))\n",
    "    if user != 0:\n",
    "        counts.append(user)\n",
    "        \n",
    "print(counts)\n",
    "print(f'Sum of the numbers above: {sum(counts)}')\n",
    "print(f'Average of the numbers above: {sum(counts)/len(counts)}')"
   ]
  },
  {
   "cell_type": "markdown",
   "id": "45f5c335",
   "metadata": {},
   "source": [
    "# Q12\n",
    " Write a Python program to create the multiplication table (from 1 to 12) of a number input from a user.\n",
    " \n",
    " Expected Output:\n",
    "\n",
    "Input a number: 6                                                       \n",
    "6 x 1 = 6                                                               \n",
    "6 x 2 = 12                                                              \n",
    "6 x 3 = 18                                                              \n",
    "6 x 4 = 24                                                              \n",
    "6 x 5 = 30                                                              \n",
    "6 x 6 = 36                                                              \n",
    "6 x 7 = 42                                                              \n",
    "6 x 8 = 48                                                              \n",
    "6 x 9 = 54                                                              \n",
    "6 x 10 = 60 \n",
    "\n",
    "6 x 11 = 66\n",
    "\n",
    "6 x 12 = 72"
   ]
  },
  {
   "cell_type": "code",
   "execution_count": 55,
   "id": "190b3c3d",
   "metadata": {},
   "outputs": [
    {
     "name": "stdout",
     "output_type": "stream",
     "text": [
      "Input a number : 6\n",
      "6 X 1 = 6\n",
      "6 X 2 = 12\n",
      "6 X 3 = 18\n",
      "6 X 4 = 24\n",
      "6 X 5 = 30\n",
      "6 X 6 = 36\n",
      "6 X 7 = 42\n",
      "6 X 8 = 48\n",
      "6 X 9 = 54\n",
      "6 X 10 = 60\n",
      "6 X 11 = 66\n",
      "6 X 12 = 72\n"
     ]
    }
   ],
   "source": [
    "users = int(input(\"Input a number : \"))\n",
    "count = 0\n",
    "num = users\n",
    "while True:\n",
    "    count+= 1\n",
    "    a = num * count\n",
    "    print(f\"{num} X {count} = {a}\")\n",
    "    if count == 12:\n",
    "        break"
   ]
  },
  {
   "cell_type": "markdown",
   "id": "8cc97048",
   "metadata": {},
   "source": [
    "# Q13\n",
    "Write a Python program to construct the following pattern\n",
    "\n",
    "1\n",
    "\n",
    "22\n",
    "\n",
    "333\n",
    "\n",
    "4444\n",
    "\n",
    "55555\n",
    "\n",
    "666666\n",
    "\n",
    "7777777\n",
    "\n",
    "88888888\n",
    "\n",
    "999999999"
   ]
  },
  {
   "cell_type": "code",
   "execution_count": 17,
   "id": "c6b2ed7b",
   "metadata": {},
   "outputs": [
    {
     "name": "stdout",
     "output_type": "stream",
     "text": [
      "1\n",
      "22\n",
      "333\n",
      "4444\n",
      "55555\n",
      "666666\n",
      "7777777\n",
      "88888888\n",
      "999999999\n"
     ]
    }
   ],
   "source": [
    "n = 9\n",
    "\n",
    "for i in range(1, n+1):\n",
    "    for k in range(1, i+1):\n",
    "        print(i, end=\"\")\n",
    "    print()"
   ]
  },
  {
   "cell_type": "markdown",
   "id": "512e1dd2",
   "metadata": {},
   "source": [
    "# Q14\n",
    "Print sum of all odd numbers from 10 to 50"
   ]
  },
  {
   "cell_type": "code",
   "execution_count": 18,
   "id": "21980fc4",
   "metadata": {},
   "outputs": [
    {
     "name": "stdout",
     "output_type": "stream",
     "text": [
      "600 is the sum of odd numbers.\n"
     ]
    }
   ],
   "source": [
    "# list to accept odd numbers between 10 to 50\n",
    "odd = []\n",
    "for number in range(10,50):\n",
    "    if number%2 == 1:\n",
    "        odd.append(number)\n",
    "print(f'{sum(odd)} is the sum of odd numbers.') "
   ]
  },
  {
   "cell_type": "markdown",
   "id": "1642ec1a",
   "metadata": {},
   "source": [
    "# Q15\n",
    "\n",
    "`my_list = [25, 100, 121, 400, 81]`\n",
    "\n",
    "Write the code to display the list of the square root of each number in my list\n",
    "\n",
    "- Without using list comprehension\n",
    "- Using list comprehension"
   ]
  },
  {
   "cell_type": "code",
   "execution_count": 52,
   "id": "be3f0615",
   "metadata": {},
   "outputs": [
    {
     "data": {
      "text/plain": [
       "[25, 100, 121, 400, 81]"
      ]
     },
     "execution_count": 52,
     "metadata": {},
     "output_type": "execute_result"
    }
   ],
   "source": [
    "my_list = [25, 100, 121, 400, 81]\n",
    "my_list"
   ]
  },
  {
   "cell_type": "code",
   "execution_count": 53,
   "id": "43ec008a",
   "metadata": {},
   "outputs": [
    {
     "name": "stdout",
     "output_type": "stream",
     "text": [
      "[5.0, 10.0, 11.0, 20.0, 9.0]\n"
     ]
    }
   ],
   "source": [
    "#Without using list comprehension\n",
    "square_roots = []\n",
    "for nums in my_list:\n",
    "    nums = nums ** 0.5\n",
    "    square_roots.append(nums)\n",
    "print(square_roots)"
   ]
  },
  {
   "cell_type": "code",
   "execution_count": 54,
   "id": "280f9e2f",
   "metadata": {},
   "outputs": [
    {
     "name": "stdout",
     "output_type": "stream",
     "text": [
      "[5.0, 10.0, 11.0, 20.0, 9.0]\n"
     ]
    }
   ],
   "source": [
    "#Using list comprehension\n",
    "square_roots = [nums**0.5 for nums in my_list]\n",
    "print(square_roots)"
   ]
  }
 ],
 "metadata": {
  "kernelspec": {
   "display_name": "Python 3 (ipykernel)",
   "language": "python",
   "name": "python3"
  },
  "language_info": {
   "codemirror_mode": {
    "name": "ipython",
    "version": 3
   },
   "file_extension": ".py",
   "mimetype": "text/x-python",
   "name": "python",
   "nbconvert_exporter": "python",
   "pygments_lexer": "ipython3",
   "version": "3.9.13"
  }
 },
 "nbformat": 4,
 "nbformat_minor": 5
}
