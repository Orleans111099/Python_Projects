{
 "cells": [
  {
   "cell_type": "markdown",
   "id": "3c2e90df",
   "metadata": {},
   "source": [
    "### Q1\n",
    "\n",
    "Name the four built-in data structures in python. Give one examples for each"
   ]
  },
  {
   "cell_type": "code",
   "execution_count": 4,
   "id": "1ea7b974",
   "metadata": {},
   "outputs": [],
   "source": [
    "#list\n",
    "thislist = [\"apple\", \"banana\", \"cherry\"]"
   ]
  },
  {
   "cell_type": "code",
   "execution_count": 6,
   "id": "143d15ab",
   "metadata": {},
   "outputs": [],
   "source": [
    "#sets \n",
    "myset = {\"apple\", \"banana\", \"cherry\"}"
   ]
  },
  {
   "cell_type": "code",
   "execution_count": 7,
   "id": "8cd421f2",
   "metadata": {},
   "outputs": [],
   "source": [
    "#tuples\n",
    "mytuple = (\"apple\", \"banana\", \"cherry\")"
   ]
  },
  {
   "cell_type": "code",
   "execution_count": 5,
   "id": "e1644ad2",
   "metadata": {},
   "outputs": [],
   "source": [
    "#dictionary:\n",
    "thisdict = {\n",
    "  \"brand\": \"Ford\",\n",
    "  \"model\": \"Mustang\",\n",
    "  \"year\": 1964\n",
    "}"
   ]
  },
  {
   "cell_type": "markdown",
   "id": "b6e1dd1b",
   "metadata": {},
   "source": [
    "### Q2\n",
    "\n",
    "State two differences between a list and a tuple in Python."
   ]
  },
  {
   "cell_type": "code",
   "execution_count": null,
   "id": "f297778e",
   "metadata": {},
   "outputs": [],
   "source": [
    "# 1. A list is mutable but a tuple is immutable.\n",
    "# 2. List are written with square brackets and tuples are written with normal brackets."
   ]
  },
  {
   "cell_type": "markdown",
   "id": "815b4e67",
   "metadata": {},
   "source": [
    "### Q3\n",
    "Make a list containing names of five animals with a variable name `animal_list`\n",
    "\n",
    "Write a code for the following:\n",
    "- Print the first two animals\n",
    "- Print the last two animals\n",
    "- Add three extra animals to the variable `animal_list`\n",
    "- Remove the first two animals from the variable `animal_list`\n",
    "- How many animals are in the `animal_list`?\n",
    "- Create a variable animal_set which stores the set of animal_list \n",
    "- How many elements are in the animal_set?\n"
   ]
  },
  {
   "cell_type": "code",
   "execution_count": 8,
   "id": "7e395b9e",
   "metadata": {},
   "outputs": [],
   "source": [
    "animal_list = ['lion', 'dog', 'cat', 'horse', 'donkey']"
   ]
  },
  {
   "cell_type": "code",
   "execution_count": 9,
   "id": "5d8ff34b",
   "metadata": {},
   "outputs": [
    {
     "name": "stdout",
     "output_type": "stream",
     "text": [
      "['lion', 'dog']\n"
     ]
    }
   ],
   "source": [
    "print (animal_list[:2])"
   ]
  },
  {
   "cell_type": "code",
   "execution_count": 10,
   "id": "a07756ab",
   "metadata": {},
   "outputs": [
    {
     "name": "stdout",
     "output_type": "stream",
     "text": [
      "['horse', 'donkey']\n"
     ]
    }
   ],
   "source": [
    "print (animal_list[3:])"
   ]
  },
  {
   "cell_type": "code",
   "execution_count": 11,
   "id": "bc447499",
   "metadata": {},
   "outputs": [
    {
     "name": "stdout",
     "output_type": "stream",
     "text": [
      "['lion', 'dog', 'cat', 'horse', 'donkey', 'sheep', 'goat', 'monkey']\n"
     ]
    }
   ],
   "source": [
    "animal_list.extend(['sheep', 'goat', 'monkey'])\n",
    "print(animal_list)"
   ]
  },
  {
   "cell_type": "code",
   "execution_count": 12,
   "id": "355134c6",
   "metadata": {},
   "outputs": [
    {
     "name": "stdout",
     "output_type": "stream",
     "text": [
      "['dog', 'cat', 'horse', 'donkey', 'sheep', 'goat', 'monkey']\n"
     ]
    }
   ],
   "source": [
    "animal_list.remove('lion')\n",
    "print(animal_list)"
   ]
  },
  {
   "cell_type": "code",
   "execution_count": 13,
   "id": "739d1e38",
   "metadata": {},
   "outputs": [
    {
     "name": "stdout",
     "output_type": "stream",
     "text": [
      "['cat', 'horse', 'donkey', 'sheep', 'goat', 'monkey']\n"
     ]
    }
   ],
   "source": [
    "animal_list.remove('dog')\n",
    "print(animal_list)"
   ]
  },
  {
   "cell_type": "code",
   "execution_count": 14,
   "id": "88c32a0e",
   "metadata": {},
   "outputs": [
    {
     "name": "stdout",
     "output_type": "stream",
     "text": [
      "6\n"
     ]
    }
   ],
   "source": [
    "print(len(animal_list))"
   ]
  },
  {
   "cell_type": "code",
   "execution_count": 16,
   "id": "168be463",
   "metadata": {},
   "outputs": [
    {
     "name": "stdout",
     "output_type": "stream",
     "text": [
      "{'monkey', 'donkey', 'horse', 'sheep', 'cat', 'goat'}\n"
     ]
    }
   ],
   "source": [
    "animal_set = set(animal_list)\n",
    "print(animal_set)"
   ]
  },
  {
   "cell_type": "code",
   "execution_count": 17,
   "id": "b456a54f",
   "metadata": {},
   "outputs": [
    {
     "name": "stdout",
     "output_type": "stream",
     "text": [
      "6\n"
     ]
    }
   ],
   "source": [
    "print (len(animal_set))"
   ]
  },
  {
   "cell_type": "markdown",
   "id": "113c9970",
   "metadata": {},
   "source": [
    "### Q4\n",
    "\n",
    "Given a list:\n",
    "\n",
    "suitcase = [\"sunglasses\", \"hat\", \"passport\", \"laptop\", \"suit\", \"shoes\"]\n",
    "\n",
    "a. Create a list called first containing only the two first items from suitcase.\n",
    "\n",
    "b. Create a list called middle containing only the two middle items from suitcase.\n",
    "\n",
    "c. Create a list called last made up only of the last two items from suitcase."
   ]
  },
  {
   "cell_type": "code",
   "execution_count": 18,
   "id": "7a638590",
   "metadata": {},
   "outputs": [
    {
     "data": {
      "text/plain": [
       "['sunglasses', 'hat', 'passport', 'laptop', 'suit', 'shoes']"
      ]
     },
     "execution_count": 18,
     "metadata": {},
     "output_type": "execute_result"
    }
   ],
   "source": [
    "suitcase = [\"sunglasses\", \"hat\", \"passport\", \"laptop\", \"suit\", \"shoes\"]\n",
    "suitcase"
   ]
  },
  {
   "cell_type": "code",
   "execution_count": 24,
   "id": "102f01db",
   "metadata": {},
   "outputs": [
    {
     "name": "stdout",
     "output_type": "stream",
     "text": [
      "['sunglasses', 'hat']\n"
     ]
    }
   ],
   "source": [
    "first = print(suitcase[:2])"
   ]
  },
  {
   "cell_type": "code",
   "execution_count": 25,
   "id": "1da3e676",
   "metadata": {
    "scrolled": true
   },
   "outputs": [
    {
     "name": "stdout",
     "output_type": "stream",
     "text": [
      "['passport', 'laptop']\n"
     ]
    }
   ],
   "source": [
    "middle = print(suitcase[2:4])"
   ]
  },
  {
   "cell_type": "code",
   "execution_count": 26,
   "id": "2816de22",
   "metadata": {},
   "outputs": [
    {
     "name": "stdout",
     "output_type": "stream",
     "text": [
      "['suit', 'shoes']\n"
     ]
    }
   ],
   "source": [
    "last = print(suitcase[4:])"
   ]
  },
  {
   "cell_type": "markdown",
   "id": "711ba044",
   "metadata": {},
   "source": [
    "### Q5\n",
    "Write a python code to insert 35 into the list below. Make sure it is inserted in the right position to maintain the order of the data.\n",
    "\n",
    "`values = [20,25,30,40,45,50,55,60,65,70]`"
   ]
  },
  {
   "cell_type": "code",
   "execution_count": 28,
   "id": "e1679038",
   "metadata": {},
   "outputs": [
    {
     "name": "stdout",
     "output_type": "stream",
     "text": [
      "[20, 25, 30, 35, 40, 45, 50, 55, 60, 65, 70]\n"
     ]
    }
   ],
   "source": [
    "values = [20,25,30,40,45,50,55,60,65,70]\n",
    "values.insert(3, 35)\n",
    "print(values)"
   ]
  },
  {
   "cell_type": "markdown",
   "id": "f535cf64",
   "metadata": {},
   "source": [
    "### Q6\n",
    "\n",
    "Given that Python lists and Python tuples are quite similar – when might you prefer to use a tuple over a list?"
   ]
  },
  {
   "cell_type": "code",
   "execution_count": null,
   "id": "e140a4ac",
   "metadata": {},
   "outputs": [],
   "source": [
    "# Tuples are prefered if you do not want the values in the set to be changed"
   ]
  },
  {
   "cell_type": "markdown",
   "id": "346927f6",
   "metadata": {},
   "source": [
    "### Q7\n",
    "Create a dictionary with 5 Ghana regions and their capitals and store it in the variable `region_capital`\n",
    "\n",
    "- Print out the keys of region_capital\n",
    "- Print out the values of region_capital\n"
   ]
  },
  {
   "cell_type": "code",
   "execution_count": 29,
   "id": "a85d5f37",
   "metadata": {},
   "outputs": [],
   "source": [
    "regional_capital = {\n",
    "  \"Volta\": \"Ho\",\n",
    "  \"Ashanti\": \"Kumasi\",\n",
    "  \"Greater Accra\": \"Accra\",\n",
    "  \"Northern Accra\": \"Tamale\",\n",
    "  \"Central Accra\": \"Cape Coast\",\n",
    "}"
   ]
  },
  {
   "cell_type": "code",
   "execution_count": 31,
   "id": "b6eab04e",
   "metadata": {
    "scrolled": true
   },
   "outputs": [
    {
     "name": "stdout",
     "output_type": "stream",
     "text": [
      "dict_keys(['Volta', 'Ashanti', 'Greater Accra', 'Northern Accra', 'Central Accra'])\n"
     ]
    }
   ],
   "source": [
    "print(regional_capital.keys())"
   ]
  },
  {
   "cell_type": "code",
   "execution_count": 32,
   "id": "fc99c7fb",
   "metadata": {},
   "outputs": [
    {
     "name": "stdout",
     "output_type": "stream",
     "text": [
      "dict_values(['Ho', 'Kumasi', 'Accra', 'Tamale', 'Cape Coast'])\n"
     ]
    }
   ],
   "source": [
    "print(regional_capital.values())"
   ]
  },
  {
   "cell_type": "markdown",
   "id": "70526b3b",
   "metadata": {},
   "source": [
    "### Q8\n",
    "\n",
    "`values = [3,4,5,6,3,4,3,5,2,4,2,5,6,1,6]`\n",
    "\n",
    "Using the codes above answer the following questions:\n",
    "- What is the total number of elements in values?\n",
    "- What is the highest occuring number in the values variable?\n",
    "- Convert values into a set and store it into a variable named `values_set`\n",
    "- How many elements are in the variable values_set?\n"
   ]
  },
  {
   "cell_type": "code",
   "execution_count": 66,
   "id": "1b306b28",
   "metadata": {},
   "outputs": [
    {
     "data": {
      "text/plain": [
       "[3, 4, 5, 6, 3, 4, 3, 5, 2, 4, 2, 5, 6, 1, 6, 3]"
      ]
     },
     "execution_count": 66,
     "metadata": {},
     "output_type": "execute_result"
    }
   ],
   "source": [
    "values = [3,4,5,6,3,4,3,5,2,4,2,5,6,1,6,3]\n",
    "values"
   ]
  },
  {
   "cell_type": "code",
   "execution_count": 48,
   "id": "e9c28c4a",
   "metadata": {},
   "outputs": [
    {
     "name": "stdout",
     "output_type": "stream",
     "text": [
      "16\n"
     ]
    }
   ],
   "source": [
    "print(len(values))"
   ]
  },
  {
   "cell_type": "code",
   "execution_count": 70,
   "id": "1fc878da",
   "metadata": {},
   "outputs": [
    {
     "name": "stdout",
     "output_type": "stream",
     "text": [
      "3 is the highest occurring number\n"
     ]
    }
   ],
   "source": [
    "diction = {}\n",
    "\n",
    "for value in values:\n",
    "    diction[value] = values.count(value)\n",
    "    \n",
    "max_value = max(diction.values())\n",
    " \n",
    "print (f'{diction.get(max_value)} is the highest occurring number')"
   ]
  },
  {
   "cell_type": "code",
   "execution_count": 49,
   "id": "4b91e139",
   "metadata": {},
   "outputs": [
    {
     "data": {
      "text/plain": [
       "{1, 2, 3, 4, 5, 6}"
      ]
     },
     "execution_count": 49,
     "metadata": {},
     "output_type": "execute_result"
    }
   ],
   "source": [
    "values_set = set(values)\n",
    "values_set"
   ]
  },
  {
   "cell_type": "code",
   "execution_count": 50,
   "id": "9c96a1b0",
   "metadata": {},
   "outputs": [
    {
     "name": "stdout",
     "output_type": "stream",
     "text": [
      "6\n"
     ]
    }
   ],
   "source": [
    "print(len(values_set))"
   ]
  },
  {
   "cell_type": "markdown",
   "id": "801d5876",
   "metadata": {},
   "source": [
    "### Q9\n",
    "Write a Python script to print a dictionary where the keys are numbers between 1 and 15 (both included) and the values are the square of the keys."
   ]
  },
  {
   "cell_type": "code",
   "execution_count": 60,
   "id": "415a780b",
   "metadata": {},
   "outputs": [
    {
     "name": "stdout",
     "output_type": "stream",
     "text": [
      "{1: 1, 2: 4, 3: 9, 4: 16, 5: 25, 6: 36, 7: 49, 8: 64, 9: 81, 10: 100, 11: 121, 12: 144, 13: 169, 14: 196, 15: 225}\n"
     ]
    }
   ],
   "source": [
    "d = {}\n",
    "\n",
    "for num in range(1,16):\n",
    "    d[num] = num**2\n",
    "    \n",
    "print(d)"
   ]
  },
  {
   "cell_type": "markdown",
   "id": "18954e57",
   "metadata": {},
   "source": [
    "### Q10\n",
    "Write a Python program to create a dictionary of keys x, y, and z where each key has as value a list from 11-20, 21-30, and 31-40 respectively. Access the fifth value of each key from the dictionary."
   ]
  },
  {
   "cell_type": "code",
   "execution_count": 62,
   "id": "fb2e7315",
   "metadata": {},
   "outputs": [
    {
     "name": "stdout",
     "output_type": "stream",
     "text": [
      "x : 15\n",
      "y : 25\n",
      "z : 15\n"
     ]
    }
   ],
   "source": [
    "keys = ['x', 'y', 'z']\n",
    "\n",
    "\n",
    "dictionary = {}\n",
    "for key in keys:\n",
    "    if key == 'x':\n",
    "        dictionary[key] = list(range(11,21))\n",
    "    elif key == 'y':\n",
    "            dictionary[key] = list(range(21,31))\n",
    "    else:\n",
    "        dictionary[key] = list(range(11,21))\n",
    "        \n",
    "for key in keys:\n",
    "    print(f'{key} : {dictionary[key][4]}')"
   ]
  }
 ],
 "metadata": {
  "kernelspec": {
   "display_name": "Python 3 (ipykernel)",
   "language": "python",
   "name": "python3"
  },
  "language_info": {
   "codemirror_mode": {
    "name": "ipython",
    "version": 3
   },
   "file_extension": ".py",
   "mimetype": "text/x-python",
   "name": "python",
   "nbconvert_exporter": "python",
   "pygments_lexer": "ipython3",
   "version": "3.9.13"
  }
 },
 "nbformat": 4,
 "nbformat_minor": 5
}
